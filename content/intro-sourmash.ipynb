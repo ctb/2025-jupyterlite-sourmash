{
  "metadata": {
    "kernelspec": {
      "name": "python",
      "display_name": "Python (Pyodide)",
      "language": "python"
    },
    "language_info": {
      "codemirror_mode": {
        "name": "python",
        "version": 3
      },
      "file_extension": ".py",
      "mimetype": "text/x-python",
      "name": "python",
      "nbconvert_exporter": "python",
      "pygments_lexer": "ipython3",
      "version": "3.8"
    }
  },
  "nbformat_minor": 5,
  "nbformat": 4,
  "cells": [
    {
      "id": "8ffeaca5-70ea-40e6-b822-611ed681474e",
      "cell_type": "markdown",
      "source": "# Welcome to sourmash!",
      "metadata": {}
    },
    {
      "id": "e995e8c4-6db4-4051-98ba-86f7fbc2dea6",
      "cell_type": "code",
      "source": "%pip install sourmash",
      "metadata": {
        "trusted": true
      },
      "outputs": [],
      "execution_count": 1
    },
    {
      "id": "05f4f8c7-5290-4200-a15f-d6f9e8300013",
      "cell_type": "markdown",
      "source": "## sourmash docs\n\nSourmash documentation is [here](https://sourmash.readthedocs.io/en/latest/), and here are [the command line docs](https://sourmash.readthedocs.io/en/latest/command-line.html).\n\nTo run sourmash in this notebook, we need to use `%run bin/sourmash ...`:",
      "metadata": {}
    },
    {
      "id": "1e12c893-d2a2-4ed5-8a7e-76f403c6aaab",
      "cell_type": "code",
      "source": "%run bin/sourmash",
      "metadata": {
        "trusted": true
      },
      "outputs": [
        {
          "name": "stderr",
          "output_type": "stream",
          "text": "\u001b[K\n== This is sourmash version 4.8.11. ==\n\u001b[K== Please cite Irber et. al (2024), doi:10.21105/joss.06830. ==\n\n"
        },
        {
          "name": "stdout",
          "output_type": "stream",
          "text": "Create, compare, and manipulate k-mer sketches of biological sequences.\n\nUsage instructions:\n    Basic operations\n        sourmash compare --help   create a similarity matrix comparing many samples\n        sourmash compute --help   compute sequence signatures for inputs\n        sourmash gather --help    search a metagenome signature against dbs\n        sourmash index --help     index signatures for rapid search\n        sourmash info --help      display sourmash version and other information\n        sourmash plot --help      plot distance matrix made by 'compare'\n        sourmash prefetch --help  search a signature against dbs, find all overlaps\n        sourmash search --help    search a signature against other signatures\n\n    Taxonomic operations\n        sourmash lca --help\n\n    Manipulate signature files\n        sourmash sig --help\n        sourmash signature --help\n\n    Create signatures\n        sourmash sketch --help\n\n    Operations on storage\n        sourmash storage --help\n\n    Integrate taxonomy information based on \"gather\" results\n        sourmash tax --help\n\nOptions:\n  -h, --help     show this help message and exit\n  -v, --version  show program's version number and exit\n  -q, --quiet    don't print citation information\n"
        },
        {
          "ename": "<class 'SystemExit'>",
          "evalue": "1",
          "traceback": [
            "An exception has occurred, use %tb to see the full traceback.\n",
            "\u001b[0;31mSystemExit\u001b[0m\u001b[0;31m:\u001b[0m 1\n"
          ],
          "output_type": "error"
        }
      ],
      "execution_count": 2
    },
    {
      "id": "3df42fee-20c1-4ebb-a0b1-687f8cf5e3a1",
      "cell_type": "markdown",
      "source": "## Start by sketching some genomes\n\nThe files `akker.sig.gz`, `shew-os185.sig.gz`, and `shew-os223.sig.gz` are in the `genomes/` directory. These are sourmash sketches of three genomes, aka \"signatures\". We can compare them using `sourmash compare`",
      "metadata": {}
    },
    {
      "id": "3a424fbc-8d0a-4dbc-ae03-a79647db61ab",
      "cell_type": "code",
      "source": "%run bin/sourmash compare genomes/*.sig.gz -o sigs.cmp\n",
      "metadata": {
        "trusted": true
      },
      "outputs": [
        {
          "name": "stderr",
          "output_type": "stream",
          "text": "\u001b[Kloaded 3 signatures total.                                                     \n\u001b[K\n"
        },
        {
          "name": "stdout",
          "output_type": "stream",
          "text": "0-akker             \t[1. 0. 0.]\n1-shew-os185        \t[0.    1.    0.321]\n2-shew-os223        \t[0.    0.321 1.   ]\nmin similarity in matrix: 0.000\n"
        },
        {
          "name": "stderr",
          "output_type": "stream",
          "text": "\u001b[Ksaving labels to: sigs.cmp.labels.txt\n\u001b[Ksaving comparison matrix to: sigs.cmp\n"
        }
      ],
      "execution_count": 3
    },
    {
      "id": "bea1bb77-c20a-4c0f-b111-80b4cfa83826",
      "cell_type": "markdown",
      "source": "## Comparing genomes\n\nFrom the comparison matrix above, you can see that two of the genomes have _some_ similarity, while the third one ('akker') has no similarity.\n\nLet's visualize this:",
      "metadata": {}
    },
    {
      "id": "369554cd-1536-41c1-811a-29603b972e88",
      "cell_type": "code",
      "source": "%run bin/sourmash plot sigs.cmp",
      "metadata": {
        "trusted": true
      },
      "outputs": [
        {
          "name": "stderr",
          "output_type": "stream",
          "text": "Matplotlib is building the font cache; this may take a moment.\n\u001b[Kloading comparison matrix from sigs.cmp...\n\u001b[K...got 3 x 3 matrix.\n\u001b[Kloading labels from text file 'sigs.cmp.labels.txt'\n\u001b[Ksaving histogram of matrix values => sigs.cmp.hist.png\n\u001b[Kwrote dendrogram to: sigs.cmp.dendro.png\n\u001b[Kwrote numpy distance matrix to: sigs.cmp.matrix.png\n"
        },
        {
          "name": "stdout",
          "output_type": "stream",
          "text": "0\takker\n1\tshew-os185\n2\tshew-os223\n"
        }
      ],
      "execution_count": 4
    },
    {
      "id": "8ca60430-1389-4096-a5a4-63be45e3dafe",
      "cell_type": "code",
      "source": "from IPython.display import Image\nImage(filename='sigs.cmp.matrix.png', width=500)",
      "metadata": {
        "trusted": true
      },
      "outputs": [
        {
          "execution_count": 5,
          "output_type": "execute_result",
          "data": {
            "image/png": "[encoded data removed]",
            "text/plain": "<IPython.core.display.Image object>"
          },
          "metadata": {
            "image/png": {
              "width": 500
            }
          }
        }
      ],
      "execution_count": 5
    },
    {
      "id": "1f8941b8-20ad-4880-be5d-66d8634b338b",
      "cell_type": "markdown",
      "source": "## Looking at the image\n\nYou can also download the image file by right-clicking on the filename on the left.",
      "metadata": {}
    },
    {
      "id": "3d4efda7-7e72-4c9a-b835-4477f70c7d83",
      "cell_type": "code",
      "source": "",
      "metadata": {
        "trusted": true
      },
      "outputs": [],
      "execution_count": null
    }
  ]
}